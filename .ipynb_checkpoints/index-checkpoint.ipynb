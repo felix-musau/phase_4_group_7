{
 "cells": [
  {
   "cell_type": "markdown",
   "id": "e44967c6-c3d6-4434-a156-09fa52b2d80d",
   "metadata": {},
   "source": [
    "# CHICAGO VECHICLE CRASHES"
   ]
  },
  {
   "cell_type": "markdown",
   "id": "90b1328b-b7bb-4da6-8170-d9e52d689029",
   "metadata": {},
   "source": [
    "<img src=\"image.jpg\" width=\"400\">\n"
   ]
  },
  {
   "cell_type": "markdown",
   "id": "cd8ce288-83a9-4d2a-bae1-4d511cbe87bf",
   "metadata": {},
   "source": [
    "# PROJECT SUMMARY"
   ]
  },
  {
   "cell_type": "markdown",
   "id": "b9b521d4-4180-4687-a99a-06f50a85bfa8",
   "metadata": {},
   "source": [
    "# 1. DATA UNDERSTANDING"
   ]
  },
  {
   "cell_type": "markdown",
   "id": "5e9299ed-2a83-4513-86db-6a89e7153b87",
   "metadata": {},
   "source": [
    "# 2. BUSINESS PROBLEM"
   ]
  },
  {
   "cell_type": "markdown",
   "id": "0a619d12-0b78-4514-9a8c-06b839fd54a2",
   "metadata": {},
   "source": [
    "# 3. OBJECTIVES"
   ]
  },
  {
   "cell_type": "markdown",
   "id": "691338b5-c461-4540-92b6-ea6b153b27b5",
   "metadata": {},
   "source": [
    "## 3.1 Main objective\n",
    "1. Build a model that can predict the likelihood of accidents based on features."
   ]
  },
  {
   "cell_type": "markdown",
   "id": "3b7052c1-d8e2-4260-8167-8406623b0dbc",
   "metadata": {},
   "source": [
    "## 3.2 Specific objectives\n",
    "1. factors contributing to road accidents."
   ]
  },
  {
   "cell_type": "markdown",
   "id": "28f44c5e-008e-4469-bfe7-eabcdea03bc6",
   "metadata": {},
   "source": [
    "## 3.3 Metric of success"
   ]
  },
  {
   "cell_type": "markdown",
   "id": "34a7dc5f-1db8-4316-a4b6-eb5bf7c05f42",
   "metadata": {},
   "source": [
    "# 4. DATA UNDERSTANDING"
   ]
  },
  {
   "cell_type": "markdown",
   "id": "ff404d5e-6dfc-4eb7-8812-b8fa92b8db03",
   "metadata": {},
   "source": [
    "## 4.1 Data Limitation"
   ]
  },
  {
   "cell_type": "markdown",
   "id": "4dd895bc-0cc9-4546-8e3a-a0a7a45314f8",
   "metadata": {},
   "source": [
    "## 4.2 Loading a dataset"
   ]
  },
  {
   "cell_type": "code",
   "execution_count": 3,
   "id": "42a62ea3-1284-469f-9d8b-8611b246a6bb",
   "metadata": {},
   "outputs": [],
   "source": [
    "# Import the required libraries\n",
    "import pandas as pd\n",
    "import numpy as np\n",
    "import seaborn as sns\n",
    "import matplotlib.pyplot as plt\n",
    "%matplotlib inline\n",
    "\n",
    "import warnings\n",
    "warnings.filterwarnings('ignore')\n",
    "\n"
   ]
  },
  {
   "cell_type": "code",
   "execution_count": 5,
   "id": "ef52c6b1-c4c7-45b9-97b1-80fb73a14c64",
   "metadata": {},
   "outputs": [
    {
     "data": {
      "text/html": [
       "<div>\n",
       "<style scoped>\n",
       "    .dataframe tbody tr th:only-of-type {\n",
       "        vertical-align: middle;\n",
       "    }\n",
       "\n",
       "    .dataframe tbody tr th {\n",
       "        vertical-align: top;\n",
       "    }\n",
       "\n",
       "    .dataframe thead th {\n",
       "        text-align: right;\n",
       "    }\n",
       "</style>\n",
       "<table border=\"1\" class=\"dataframe\">\n",
       "  <thead>\n",
       "    <tr style=\"text-align: right;\">\n",
       "      <th></th>\n",
       "      <th>CRASH_DATE</th>\n",
       "      <th>POSTED_SPEED_LIMIT</th>\n",
       "      <th>TRAFFIC_CONTROL_DEVICE</th>\n",
       "      <th>DEVICE_CONDITION</th>\n",
       "      <th>WEATHER_CONDITION</th>\n",
       "      <th>LIGHTING_CONDITION</th>\n",
       "      <th>FIRST_CRASH_TYPE</th>\n",
       "      <th>TRAFFICWAY_TYPE</th>\n",
       "      <th>ALIGNMENT</th>\n",
       "      <th>ROADWAY_SURFACE_COND</th>\n",
       "      <th>...</th>\n",
       "      <th>INJURIES_NON_INCAPACITATING</th>\n",
       "      <th>INJURIES_REPORTED_NOT_EVIDENT</th>\n",
       "      <th>INJURIES_NO_INDICATION</th>\n",
       "      <th>INJURIES_UNKNOWN</th>\n",
       "      <th>CRASH_HOUR</th>\n",
       "      <th>CRASH_DAY_OF_WEEK</th>\n",
       "      <th>CRASH_MONTH</th>\n",
       "      <th>LATITUDE</th>\n",
       "      <th>LONGITUDE</th>\n",
       "      <th>LOCATION</th>\n",
       "    </tr>\n",
       "  </thead>\n",
       "  <tbody>\n",
       "    <tr>\n",
       "      <th>0</th>\n",
       "      <td>10/12/2025 02:15:00 AM</td>\n",
       "      <td>30</td>\n",
       "      <td>NO CONTROLS</td>\n",
       "      <td>NO CONTROLS</td>\n",
       "      <td>CLEAR</td>\n",
       "      <td>DAYLIGHT</td>\n",
       "      <td>PEDALCYCLIST</td>\n",
       "      <td>NOT DIVIDED</td>\n",
       "      <td>STRAIGHT AND LEVEL</td>\n",
       "      <td>DRY</td>\n",
       "      <td>...</td>\n",
       "      <td>0.0</td>\n",
       "      <td>0.0</td>\n",
       "      <td>2.0</td>\n",
       "      <td>0.0</td>\n",
       "      <td>2</td>\n",
       "      <td>1</td>\n",
       "      <td>10</td>\n",
       "      <td>41.864686</td>\n",
       "      <td>-87.628601</td>\n",
       "      <td>POINT (-87.628600775248 41.864686205128)</td>\n",
       "    </tr>\n",
       "    <tr>\n",
       "      <th>1</th>\n",
       "      <td>10/12/2025 01:30:00 AM</td>\n",
       "      <td>30</td>\n",
       "      <td>NO CONTROLS</td>\n",
       "      <td>NO CONTROLS</td>\n",
       "      <td>CLEAR</td>\n",
       "      <td>DARKNESS, LIGHTED ROAD</td>\n",
       "      <td>FIXED OBJECT</td>\n",
       "      <td>NOT DIVIDED</td>\n",
       "      <td>STRAIGHT AND LEVEL</td>\n",
       "      <td>DRY</td>\n",
       "      <td>...</td>\n",
       "      <td>0.0</td>\n",
       "      <td>0.0</td>\n",
       "      <td>1.0</td>\n",
       "      <td>0.0</td>\n",
       "      <td>1</td>\n",
       "      <td>1</td>\n",
       "      <td>10</td>\n",
       "      <td>41.778137</td>\n",
       "      <td>-87.751688</td>\n",
       "      <td>POINT (-87.751688421991 41.778136527292)</td>\n",
       "    </tr>\n",
       "    <tr>\n",
       "      <th>2</th>\n",
       "      <td>10/12/2025 01:15:00 AM</td>\n",
       "      <td>30</td>\n",
       "      <td>TRAFFIC SIGNAL</td>\n",
       "      <td>FUNCTIONING PROPERLY</td>\n",
       "      <td>CLEAR</td>\n",
       "      <td>DARKNESS, LIGHTED ROAD</td>\n",
       "      <td>REAR END</td>\n",
       "      <td>NOT DIVIDED</td>\n",
       "      <td>STRAIGHT AND LEVEL</td>\n",
       "      <td>DRY</td>\n",
       "      <td>...</td>\n",
       "      <td>0.0</td>\n",
       "      <td>0.0</td>\n",
       "      <td>2.0</td>\n",
       "      <td>0.0</td>\n",
       "      <td>1</td>\n",
       "      <td>1</td>\n",
       "      <td>10</td>\n",
       "      <td>41.900585</td>\n",
       "      <td>-87.632986</td>\n",
       "      <td>POINT (-87.632986070025 41.900584800211)</td>\n",
       "    </tr>\n",
       "    <tr>\n",
       "      <th>3</th>\n",
       "      <td>10/12/2025 01:15:00 AM</td>\n",
       "      <td>25</td>\n",
       "      <td>NO CONTROLS</td>\n",
       "      <td>NO CONTROLS</td>\n",
       "      <td>CLEAR</td>\n",
       "      <td>DARKNESS, LIGHTED ROAD</td>\n",
       "      <td>FIXED OBJECT</td>\n",
       "      <td>DIVIDED - W/MEDIAN BARRIER</td>\n",
       "      <td>STRAIGHT AND LEVEL</td>\n",
       "      <td>DRY</td>\n",
       "      <td>...</td>\n",
       "      <td>0.0</td>\n",
       "      <td>0.0</td>\n",
       "      <td>1.0</td>\n",
       "      <td>0.0</td>\n",
       "      <td>1</td>\n",
       "      <td>1</td>\n",
       "      <td>10</td>\n",
       "      <td>41.831062</td>\n",
       "      <td>-87.630739</td>\n",
       "      <td>POINT (-87.630739346453 41.831062009276)</td>\n",
       "    </tr>\n",
       "    <tr>\n",
       "      <th>4</th>\n",
       "      <td>10/12/2025 01:11:00 AM</td>\n",
       "      <td>35</td>\n",
       "      <td>NO CONTROLS</td>\n",
       "      <td>NO CONTROLS</td>\n",
       "      <td>CLEAR</td>\n",
       "      <td>DARKNESS, LIGHTED ROAD</td>\n",
       "      <td>TURNING</td>\n",
       "      <td>NOT DIVIDED</td>\n",
       "      <td>STRAIGHT AND LEVEL</td>\n",
       "      <td>DRY</td>\n",
       "      <td>...</td>\n",
       "      <td>0.0</td>\n",
       "      <td>0.0</td>\n",
       "      <td>2.0</td>\n",
       "      <td>0.0</td>\n",
       "      <td>1</td>\n",
       "      <td>1</td>\n",
       "      <td>10</td>\n",
       "      <td>41.774252</td>\n",
       "      <td>-87.644497</td>\n",
       "      <td>POINT (-87.644496549933 41.774252148861)</td>\n",
       "    </tr>\n",
       "  </tbody>\n",
       "</table>\n",
       "<p>5 rows × 36 columns</p>\n",
       "</div>"
      ],
      "text/plain": [
       "               CRASH_DATE  POSTED_SPEED_LIMIT TRAFFIC_CONTROL_DEVICE  \\\n",
       "0  10/12/2025 02:15:00 AM                  30            NO CONTROLS   \n",
       "1  10/12/2025 01:30:00 AM                  30            NO CONTROLS   \n",
       "2  10/12/2025 01:15:00 AM                  30         TRAFFIC SIGNAL   \n",
       "3  10/12/2025 01:15:00 AM                  25            NO CONTROLS   \n",
       "4  10/12/2025 01:11:00 AM                  35            NO CONTROLS   \n",
       "\n",
       "       DEVICE_CONDITION WEATHER_CONDITION      LIGHTING_CONDITION  \\\n",
       "0           NO CONTROLS             CLEAR                DAYLIGHT   \n",
       "1           NO CONTROLS             CLEAR  DARKNESS, LIGHTED ROAD   \n",
       "2  FUNCTIONING PROPERLY             CLEAR  DARKNESS, LIGHTED ROAD   \n",
       "3           NO CONTROLS             CLEAR  DARKNESS, LIGHTED ROAD   \n",
       "4           NO CONTROLS             CLEAR  DARKNESS, LIGHTED ROAD   \n",
       "\n",
       "  FIRST_CRASH_TYPE             TRAFFICWAY_TYPE           ALIGNMENT  \\\n",
       "0     PEDALCYCLIST                 NOT DIVIDED  STRAIGHT AND LEVEL   \n",
       "1     FIXED OBJECT                 NOT DIVIDED  STRAIGHT AND LEVEL   \n",
       "2         REAR END                 NOT DIVIDED  STRAIGHT AND LEVEL   \n",
       "3     FIXED OBJECT  DIVIDED - W/MEDIAN BARRIER  STRAIGHT AND LEVEL   \n",
       "4          TURNING                 NOT DIVIDED  STRAIGHT AND LEVEL   \n",
       "\n",
       "  ROADWAY_SURFACE_COND  ... INJURIES_NON_INCAPACITATING  \\\n",
       "0                  DRY  ...                         0.0   \n",
       "1                  DRY  ...                         0.0   \n",
       "2                  DRY  ...                         0.0   \n",
       "3                  DRY  ...                         0.0   \n",
       "4                  DRY  ...                         0.0   \n",
       "\n",
       "  INJURIES_REPORTED_NOT_EVIDENT INJURIES_NO_INDICATION INJURIES_UNKNOWN  \\\n",
       "0                           0.0                    2.0              0.0   \n",
       "1                           0.0                    1.0              0.0   \n",
       "2                           0.0                    2.0              0.0   \n",
       "3                           0.0                    1.0              0.0   \n",
       "4                           0.0                    2.0              0.0   \n",
       "\n",
       "  CRASH_HOUR CRASH_DAY_OF_WEEK CRASH_MONTH   LATITUDE  LONGITUDE  \\\n",
       "0          2                 1          10  41.864686 -87.628601   \n",
       "1          1                 1          10  41.778137 -87.751688   \n",
       "2          1                 1          10  41.900585 -87.632986   \n",
       "3          1                 1          10  41.831062 -87.630739   \n",
       "4          1                 1          10  41.774252 -87.644497   \n",
       "\n",
       "                                   LOCATION  \n",
       "0  POINT (-87.628600775248 41.864686205128)  \n",
       "1  POINT (-87.751688421991 41.778136527292)  \n",
       "2  POINT (-87.632986070025 41.900584800211)  \n",
       "3  POINT (-87.630739346453 41.831062009276)  \n",
       "4  POINT (-87.644496549933 41.774252148861)  \n",
       "\n",
       "[5 rows x 36 columns]"
      ]
     },
     "execution_count": 5,
     "metadata": {},
     "output_type": "execute_result"
    }
   ],
   "source": [
    "df= pd.read_csv(\"traffic_crashes.zip\", low_memory= False)\n",
    "df.head()"
   ]
  },
  {
   "cell_type": "code",
   "execution_count": 6,
   "id": "202c1d2b-6bab-44ed-9f12-bd2f0c23523f",
   "metadata": {},
   "outputs": [
    {
     "data": {
      "text/plain": [
       "CRASH_DATE                       0.000000\n",
       "POSTED_SPEED_LIMIT               0.000000\n",
       "TRAFFIC_CONTROL_DEVICE           0.000000\n",
       "DEVICE_CONDITION                 0.000000\n",
       "WEATHER_CONDITION                0.000000\n",
       "LIGHTING_CONDITION               0.000000\n",
       "FIRST_CRASH_TYPE                 0.000000\n",
       "TRAFFICWAY_TYPE                  0.000000\n",
       "ALIGNMENT                        0.000000\n",
       "ROADWAY_SURFACE_COND             0.000000\n",
       "ROAD_DEFECT                      0.000000\n",
       "REPORT_TYPE                      3.286638\n",
       "CRASH_TYPE                       0.000000\n",
       "DAMAGE                           0.000000\n",
       "DATE_POLICE_NOTIFIED             0.000000\n",
       "PRIM_CONTRIBUTORY_CAUSE          0.000000\n",
       "SEC_CONTRIBUTORY_CAUSE           0.000000\n",
       "STREET_NO                        0.000000\n",
       "STREET_DIRECTION                 0.000403\n",
       "STREET_NAME                      0.000101\n",
       "BEAT_OF_OCCURRENCE               0.000504\n",
       "NUM_UNITS                        0.000000\n",
       "MOST_SEVERE_INJURY               0.218014\n",
       "INJURIES_TOTAL                   0.216604\n",
       "INJURIES_FATAL                   0.216604\n",
       "INJURIES_INCAPACITATING          0.216604\n",
       "INJURIES_NON_INCAPACITATING      0.216604\n",
       "INJURIES_REPORTED_NOT_EVIDENT    0.216604\n",
       "INJURIES_NO_INDICATION           0.216604\n",
       "INJURIES_UNKNOWN                 0.216604\n",
       "CRASH_HOUR                       0.000000\n",
       "CRASH_DAY_OF_WEEK                0.000000\n",
       "CRASH_MONTH                      0.000000\n",
       "LATITUDE                         0.754084\n",
       "LONGITUDE                        0.754084\n",
       "LOCATION                         0.754084\n",
       "dtype: float64"
      ]
     },
     "execution_count": 6,
     "metadata": {},
     "output_type": "execute_result"
    }
   ],
   "source": [
    "(df.isnull().sum()/len(df))*100"
   ]
  },
  {
   "cell_type": "code",
   "execution_count": 7,
   "id": "85db547e-0466-4862-81b0-3ae009c1ba5a",
   "metadata": {},
   "outputs": [
    {
     "name": "stdout",
     "output_type": "stream",
     "text": [
      "<class 'pandas.core.frame.DataFrame'>\n",
      "RangeIndex: 992595 entries, 0 to 992594\n",
      "Data columns (total 36 columns):\n",
      " #   Column                         Non-Null Count   Dtype  \n",
      "---  ------                         --------------   -----  \n",
      " 0   CRASH_DATE                     992595 non-null  object \n",
      " 1   POSTED_SPEED_LIMIT             992595 non-null  int64  \n",
      " 2   TRAFFIC_CONTROL_DEVICE         992595 non-null  object \n",
      " 3   DEVICE_CONDITION               992595 non-null  object \n",
      " 4   WEATHER_CONDITION              992595 non-null  object \n",
      " 5   LIGHTING_CONDITION             992595 non-null  object \n",
      " 6   FIRST_CRASH_TYPE               992595 non-null  object \n",
      " 7   TRAFFICWAY_TYPE                992595 non-null  object \n",
      " 8   ALIGNMENT                      992595 non-null  object \n",
      " 9   ROADWAY_SURFACE_COND           992595 non-null  object \n",
      " 10  ROAD_DEFECT                    992595 non-null  object \n",
      " 11  REPORT_TYPE                    959972 non-null  object \n",
      " 12  CRASH_TYPE                     992595 non-null  object \n",
      " 13  DAMAGE                         992595 non-null  object \n",
      " 14  DATE_POLICE_NOTIFIED           992595 non-null  object \n",
      " 15  PRIM_CONTRIBUTORY_CAUSE        992595 non-null  object \n",
      " 16  SEC_CONTRIBUTORY_CAUSE         992595 non-null  object \n",
      " 17  STREET_NO                      992595 non-null  int64  \n",
      " 18  STREET_DIRECTION               992591 non-null  object \n",
      " 19  STREET_NAME                    992594 non-null  object \n",
      " 20  BEAT_OF_OCCURRENCE             992590 non-null  float64\n",
      " 21  NUM_UNITS                      992595 non-null  int64  \n",
      " 22  MOST_SEVERE_INJURY             990431 non-null  object \n",
      " 23  INJURIES_TOTAL                 990445 non-null  float64\n",
      " 24  INJURIES_FATAL                 990445 non-null  float64\n",
      " 25  INJURIES_INCAPACITATING        990445 non-null  float64\n",
      " 26  INJURIES_NON_INCAPACITATING    990445 non-null  float64\n",
      " 27  INJURIES_REPORTED_NOT_EVIDENT  990445 non-null  float64\n",
      " 28  INJURIES_NO_INDICATION         990445 non-null  float64\n",
      " 29  INJURIES_UNKNOWN               990445 non-null  float64\n",
      " 30  CRASH_HOUR                     992595 non-null  int64  \n",
      " 31  CRASH_DAY_OF_WEEK              992595 non-null  int64  \n",
      " 32  CRASH_MONTH                    992595 non-null  int64  \n",
      " 33  LATITUDE                       985110 non-null  float64\n",
      " 34  LONGITUDE                      985110 non-null  float64\n",
      " 35  LOCATION                       985110 non-null  object \n",
      "dtypes: float64(10), int64(6), object(20)\n",
      "memory usage: 272.6+ MB\n"
     ]
    }
   ],
   "source": [
    "# What we dont need'\n",
    "df.info()\n"
   ]
  },
  {
   "cell_type": "code",
   "execution_count": null,
   "id": "51b5f08a-836d-44ec-b2b3-932b35ef8212",
   "metadata": {},
   "outputs": [],
   "source": []
  }
 ],
 "metadata": {
  "kernelspec": {
   "display_name": "Python [conda env:base] *",
   "language": "python",
   "name": "conda-base-py"
  },
  "language_info": {
   "codemirror_mode": {
    "name": "ipython",
    "version": 3
   },
   "file_extension": ".py",
   "mimetype": "text/x-python",
   "name": "python",
   "nbconvert_exporter": "python",
   "pygments_lexer": "ipython3",
   "version": "3.12.7"
  }
 },
 "nbformat": 4,
 "nbformat_minor": 5
}
