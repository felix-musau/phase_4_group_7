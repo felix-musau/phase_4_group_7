{
 "cells": [
  {
   "cell_type": "markdown",
   "id": "e44967c6-c3d6-4434-a156-09fa52b2d80d",
   "metadata": {},
   "source": [
    "# CHICAGO VECHICLE CRASHES"
   ]
  },
  {
   "cell_type": "markdown",
   "id": "90b1328b-b7bb-4da6-8170-d9e52d689029",
   "metadata": {},
   "source": [
    "<img src=\"image.jpg\" width=\"400\">\n"
   ]
  },
  {
   "cell_type": "markdown",
   "id": "cd8ce288-83a9-4d2a-bae1-4d511cbe87bf",
   "metadata": {},
   "source": [
    "# PROJECT SUMMARY"
   ]
  },
  {
   "cell_type": "markdown",
   "id": "b9b521d4-4180-4687-a99a-06f50a85bfa8",
   "metadata": {},
   "source": [
    "# 1. DATA UNDERSTANDING"
   ]
  },
  {
   "cell_type": "markdown",
   "id": "5e9299ed-2a83-4513-86db-6a89e7153b87",
   "metadata": {},
   "source": [
    "# 2. BUSINESS PROBLEM"
   ]
  },
  {
   "cell_type": "markdown",
   "id": "0a619d12-0b78-4514-9a8c-06b839fd54a2",
   "metadata": {},
   "source": [
    "# 3. OBJECTIVES"
   ]
  },
  {
   "cell_type": "markdown",
   "id": "691338b5-c461-4540-92b6-ea6b153b27b5",
   "metadata": {},
   "source": [
    "## 3.1 Main objective\n",
    "1. Build a model that can predict the likelihood of accidents based on features."
   ]
  },
  {
   "cell_type": "markdown",
   "id": "3b7052c1-d8e2-4260-8167-8406623b0dbc",
   "metadata": {},
   "source": [
    "## 3.2 Specific objectives\n",
    "1. To determine how various factors e.g Weather conditions contribute  to road accidents.\n",
    "2. To analyze the relationship and patterns between time of day, day of the week and month of the year with Road accidents.\n",
    "3. To determine the most dangerous Locations.\n",
    "4. To establish the relationship between speed limit and fatality of injury.\n",
    "5. To identify conditions that most contribute to fatal outcomes such as crash type and the condition of traffic control devices."
   ]
  },
  {
   "cell_type": "markdown",
   "id": "28f44c5e-008e-4469-bfe7-eabcdea03bc6",
   "metadata": {},
   "source": [
    "## 3.3 Metric of success"
   ]
  },
  {
   "cell_type": "markdown",
   "id": "34a7dc5f-1db8-4316-a4b6-eb5bf7c05f42",
   "metadata": {},
   "source": [
    "# 4. DATA UNDERSTANDING"
   ]
  },
  {
   "cell_type": "markdown",
   "id": "ff404d5e-6dfc-4eb7-8812-b8fa92b8db03",
   "metadata": {},
   "source": [
    "## 4.1 Data Limitation"
   ]
  },
  {
   "cell_type": "markdown",
   "id": "4dd895bc-0cc9-4546-8e3a-a0a7a45314f8",
   "metadata": {},
   "source": [
    "## 4.2 Loading a dataset"
   ]
  },
  {
   "cell_type": "code",
   "execution_count": 1,
   "id": "42a62ea3-1284-469f-9d8b-8611b246a6bb",
   "metadata": {},
   "outputs": [],
   "source": [
    "# Import the required libraries\n",
    "import pandas as pd\n",
    "import numpy as np\n",
    "import seaborn as sns\n",
    "import matplotlib.pyplot as plt\n",
    "%matplotlib inline\n",
    "\n",
    "import warnings\n",
    "warnings.filterwarnings('ignore')\n",
    "\n"
   ]
  },
  {
   "cell_type": "code",
   "execution_count": 2,
   "id": "ef52c6b1-c4c7-45b9-97b1-80fb73a14c64",
   "metadata": {},
   "outputs": [
    {
     "data": {
      "text/html": [
       "<div>\n",
       "<style scoped>\n",
       "    .dataframe tbody tr th:only-of-type {\n",
       "        vertical-align: middle;\n",
       "    }\n",
       "\n",
       "    .dataframe tbody tr th {\n",
       "        vertical-align: top;\n",
       "    }\n",
       "\n",
       "    .dataframe thead th {\n",
       "        text-align: right;\n",
       "    }\n",
       "</style>\n",
       "<table border=\"1\" class=\"dataframe\">\n",
       "  <thead>\n",
       "    <tr style=\"text-align: right;\">\n",
       "      <th></th>\n",
       "      <th>CRASH_DATE</th>\n",
       "      <th>POSTED_SPEED_LIMIT</th>\n",
       "      <th>TRAFFIC_CONTROL_DEVICE</th>\n",
       "      <th>DEVICE_CONDITION</th>\n",
       "      <th>WEATHER_CONDITION</th>\n",
       "      <th>LIGHTING_CONDITION</th>\n",
       "      <th>FIRST_CRASH_TYPE</th>\n",
       "      <th>TRAFFICWAY_TYPE</th>\n",
       "      <th>ALIGNMENT</th>\n",
       "      <th>ROADWAY_SURFACE_COND</th>\n",
       "      <th>...</th>\n",
       "      <th>INJURIES_NON_INCAPACITATING</th>\n",
       "      <th>INJURIES_REPORTED_NOT_EVIDENT</th>\n",
       "      <th>INJURIES_NO_INDICATION</th>\n",
       "      <th>INJURIES_UNKNOWN</th>\n",
       "      <th>CRASH_HOUR</th>\n",
       "      <th>CRASH_DAY_OF_WEEK</th>\n",
       "      <th>CRASH_MONTH</th>\n",
       "      <th>LATITUDE</th>\n",
       "      <th>LONGITUDE</th>\n",
       "      <th>LOCATION</th>\n",
       "    </tr>\n",
       "  </thead>\n",
       "  <tbody>\n",
       "    <tr>\n",
       "      <th>0</th>\n",
       "      <td>10/12/2025 02:15:00 AM</td>\n",
       "      <td>30</td>\n",
       "      <td>NO CONTROLS</td>\n",
       "      <td>NO CONTROLS</td>\n",
       "      <td>CLEAR</td>\n",
       "      <td>DAYLIGHT</td>\n",
       "      <td>PEDALCYCLIST</td>\n",
       "      <td>NOT DIVIDED</td>\n",
       "      <td>STRAIGHT AND LEVEL</td>\n",
       "      <td>DRY</td>\n",
       "      <td>...</td>\n",
       "      <td>0.0</td>\n",
       "      <td>0.0</td>\n",
       "      <td>2.0</td>\n",
       "      <td>0.0</td>\n",
       "      <td>2</td>\n",
       "      <td>1</td>\n",
       "      <td>10</td>\n",
       "      <td>41.864686</td>\n",
       "      <td>-87.628601</td>\n",
       "      <td>POINT (-87.628600775248 41.864686205128)</td>\n",
       "    </tr>\n",
       "    <tr>\n",
       "      <th>1</th>\n",
       "      <td>10/12/2025 01:30:00 AM</td>\n",
       "      <td>30</td>\n",
       "      <td>NO CONTROLS</td>\n",
       "      <td>NO CONTROLS</td>\n",
       "      <td>CLEAR</td>\n",
       "      <td>DARKNESS, LIGHTED ROAD</td>\n",
       "      <td>FIXED OBJECT</td>\n",
       "      <td>NOT DIVIDED</td>\n",
       "      <td>STRAIGHT AND LEVEL</td>\n",
       "      <td>DRY</td>\n",
       "      <td>...</td>\n",
       "      <td>0.0</td>\n",
       "      <td>0.0</td>\n",
       "      <td>1.0</td>\n",
       "      <td>0.0</td>\n",
       "      <td>1</td>\n",
       "      <td>1</td>\n",
       "      <td>10</td>\n",
       "      <td>41.778137</td>\n",
       "      <td>-87.751688</td>\n",
       "      <td>POINT (-87.751688421991 41.778136527292)</td>\n",
       "    </tr>\n",
       "    <tr>\n",
       "      <th>2</th>\n",
       "      <td>10/12/2025 01:15:00 AM</td>\n",
       "      <td>30</td>\n",
       "      <td>TRAFFIC SIGNAL</td>\n",
       "      <td>FUNCTIONING PROPERLY</td>\n",
       "      <td>CLEAR</td>\n",
       "      <td>DARKNESS, LIGHTED ROAD</td>\n",
       "      <td>REAR END</td>\n",
       "      <td>NOT DIVIDED</td>\n",
       "      <td>STRAIGHT AND LEVEL</td>\n",
       "      <td>DRY</td>\n",
       "      <td>...</td>\n",
       "      <td>0.0</td>\n",
       "      <td>0.0</td>\n",
       "      <td>2.0</td>\n",
       "      <td>0.0</td>\n",
       "      <td>1</td>\n",
       "      <td>1</td>\n",
       "      <td>10</td>\n",
       "      <td>41.900585</td>\n",
       "      <td>-87.632986</td>\n",
       "      <td>POINT (-87.632986070025 41.900584800211)</td>\n",
       "    </tr>\n",
       "    <tr>\n",
       "      <th>3</th>\n",
       "      <td>10/12/2025 01:15:00 AM</td>\n",
       "      <td>25</td>\n",
       "      <td>NO CONTROLS</td>\n",
       "      <td>NO CONTROLS</td>\n",
       "      <td>CLEAR</td>\n",
       "      <td>DARKNESS, LIGHTED ROAD</td>\n",
       "      <td>FIXED OBJECT</td>\n",
       "      <td>DIVIDED - W/MEDIAN BARRIER</td>\n",
       "      <td>STRAIGHT AND LEVEL</td>\n",
       "      <td>DRY</td>\n",
       "      <td>...</td>\n",
       "      <td>0.0</td>\n",
       "      <td>0.0</td>\n",
       "      <td>1.0</td>\n",
       "      <td>0.0</td>\n",
       "      <td>1</td>\n",
       "      <td>1</td>\n",
       "      <td>10</td>\n",
       "      <td>41.831062</td>\n",
       "      <td>-87.630739</td>\n",
       "      <td>POINT (-87.630739346453 41.831062009276)</td>\n",
       "    </tr>\n",
       "    <tr>\n",
       "      <th>4</th>\n",
       "      <td>10/12/2025 01:11:00 AM</td>\n",
       "      <td>35</td>\n",
       "      <td>NO CONTROLS</td>\n",
       "      <td>NO CONTROLS</td>\n",
       "      <td>CLEAR</td>\n",
       "      <td>DARKNESS, LIGHTED ROAD</td>\n",
       "      <td>TURNING</td>\n",
       "      <td>NOT DIVIDED</td>\n",
       "      <td>STRAIGHT AND LEVEL</td>\n",
       "      <td>DRY</td>\n",
       "      <td>...</td>\n",
       "      <td>0.0</td>\n",
       "      <td>0.0</td>\n",
       "      <td>2.0</td>\n",
       "      <td>0.0</td>\n",
       "      <td>1</td>\n",
       "      <td>1</td>\n",
       "      <td>10</td>\n",
       "      <td>41.774252</td>\n",
       "      <td>-87.644497</td>\n",
       "      <td>POINT (-87.644496549933 41.774252148861)</td>\n",
       "    </tr>\n",
       "  </tbody>\n",
       "</table>\n",
       "<p>5 rows × 36 columns</p>\n",
       "</div>"
      ],
      "text/plain": [
       "               CRASH_DATE  POSTED_SPEED_LIMIT TRAFFIC_CONTROL_DEVICE  \\\n",
       "0  10/12/2025 02:15:00 AM                  30            NO CONTROLS   \n",
       "1  10/12/2025 01:30:00 AM                  30            NO CONTROLS   \n",
       "2  10/12/2025 01:15:00 AM                  30         TRAFFIC SIGNAL   \n",
       "3  10/12/2025 01:15:00 AM                  25            NO CONTROLS   \n",
       "4  10/12/2025 01:11:00 AM                  35            NO CONTROLS   \n",
       "\n",
       "       DEVICE_CONDITION WEATHER_CONDITION      LIGHTING_CONDITION  \\\n",
       "0           NO CONTROLS             CLEAR                DAYLIGHT   \n",
       "1           NO CONTROLS             CLEAR  DARKNESS, LIGHTED ROAD   \n",
       "2  FUNCTIONING PROPERLY             CLEAR  DARKNESS, LIGHTED ROAD   \n",
       "3           NO CONTROLS             CLEAR  DARKNESS, LIGHTED ROAD   \n",
       "4           NO CONTROLS             CLEAR  DARKNESS, LIGHTED ROAD   \n",
       "\n",
       "  FIRST_CRASH_TYPE             TRAFFICWAY_TYPE           ALIGNMENT  \\\n",
       "0     PEDALCYCLIST                 NOT DIVIDED  STRAIGHT AND LEVEL   \n",
       "1     FIXED OBJECT                 NOT DIVIDED  STRAIGHT AND LEVEL   \n",
       "2         REAR END                 NOT DIVIDED  STRAIGHT AND LEVEL   \n",
       "3     FIXED OBJECT  DIVIDED - W/MEDIAN BARRIER  STRAIGHT AND LEVEL   \n",
       "4          TURNING                 NOT DIVIDED  STRAIGHT AND LEVEL   \n",
       "\n",
       "  ROADWAY_SURFACE_COND  ... INJURIES_NON_INCAPACITATING  \\\n",
       "0                  DRY  ...                         0.0   \n",
       "1                  DRY  ...                         0.0   \n",
       "2                  DRY  ...                         0.0   \n",
       "3                  DRY  ...                         0.0   \n",
       "4                  DRY  ...                         0.0   \n",
       "\n",
       "  INJURIES_REPORTED_NOT_EVIDENT INJURIES_NO_INDICATION INJURIES_UNKNOWN  \\\n",
       "0                           0.0                    2.0              0.0   \n",
       "1                           0.0                    1.0              0.0   \n",
       "2                           0.0                    2.0              0.0   \n",
       "3                           0.0                    1.0              0.0   \n",
       "4                           0.0                    2.0              0.0   \n",
       "\n",
       "  CRASH_HOUR CRASH_DAY_OF_WEEK CRASH_MONTH   LATITUDE  LONGITUDE  \\\n",
       "0          2                 1          10  41.864686 -87.628601   \n",
       "1          1                 1          10  41.778137 -87.751688   \n",
       "2          1                 1          10  41.900585 -87.632986   \n",
       "3          1                 1          10  41.831062 -87.630739   \n",
       "4          1                 1          10  41.774252 -87.644497   \n",
       "\n",
       "                                   LOCATION  \n",
       "0  POINT (-87.628600775248 41.864686205128)  \n",
       "1  POINT (-87.751688421991 41.778136527292)  \n",
       "2  POINT (-87.632986070025 41.900584800211)  \n",
       "3  POINT (-87.630739346453 41.831062009276)  \n",
       "4  POINT (-87.644496549933 41.774252148861)  \n",
       "\n",
       "[5 rows x 36 columns]"
      ]
     },
     "execution_count": 2,
     "metadata": {},
     "output_type": "execute_result"
    }
   ],
   "source": [
    "df= pd.read_csv(\"traffic_crashes.zip\", low_memory= False)\n",
    "df.head()"
   ]
  },
  {
   "cell_type": "code",
   "execution_count": 3,
   "id": "202c1d2b-6bab-44ed-9f12-bd2f0c23523f",
   "metadata": {},
   "outputs": [
    {
     "data": {
      "text/plain": [
       "CRASH_DATE                       0.000000\n",
       "POSTED_SPEED_LIMIT               0.000000\n",
       "TRAFFIC_CONTROL_DEVICE           0.000000\n",
       "DEVICE_CONDITION                 0.000000\n",
       "WEATHER_CONDITION                0.000000\n",
       "LIGHTING_CONDITION               0.000000\n",
       "FIRST_CRASH_TYPE                 0.000000\n",
       "TRAFFICWAY_TYPE                  0.000000\n",
       "ALIGNMENT                        0.000000\n",
       "ROADWAY_SURFACE_COND             0.000000\n",
       "ROAD_DEFECT                      0.000000\n",
       "REPORT_TYPE                      3.286638\n",
       "CRASH_TYPE                       0.000000\n",
       "DAMAGE                           0.000000\n",
       "DATE_POLICE_NOTIFIED             0.000000\n",
       "PRIM_CONTRIBUTORY_CAUSE          0.000000\n",
       "SEC_CONTRIBUTORY_CAUSE           0.000000\n",
       "STREET_NO                        0.000000\n",
       "STREET_DIRECTION                 0.000403\n",
       "STREET_NAME                      0.000101\n",
       "BEAT_OF_OCCURRENCE               0.000504\n",
       "NUM_UNITS                        0.000000\n",
       "MOST_SEVERE_INJURY               0.218014\n",
       "INJURIES_TOTAL                   0.216604\n",
       "INJURIES_FATAL                   0.216604\n",
       "INJURIES_INCAPACITATING          0.216604\n",
       "INJURIES_NON_INCAPACITATING      0.216604\n",
       "INJURIES_REPORTED_NOT_EVIDENT    0.216604\n",
       "INJURIES_NO_INDICATION           0.216604\n",
       "INJURIES_UNKNOWN                 0.216604\n",
       "CRASH_HOUR                       0.000000\n",
       "CRASH_DAY_OF_WEEK                0.000000\n",
       "CRASH_MONTH                      0.000000\n",
       "LATITUDE                         0.754084\n",
       "LONGITUDE                        0.754084\n",
       "LOCATION                         0.754084\n",
       "dtype: float64"
      ]
     },
     "execution_count": 3,
     "metadata": {},
     "output_type": "execute_result"
    }
   ],
   "source": [
    "(df.isnull().sum()/len(df))*100"
   ]
  },
  {
   "cell_type": "code",
   "execution_count": 4,
   "id": "7c995aaa-2b4e-4dda-bf5e-338bb008e6cc",
   "metadata": {},
   "outputs": [],
   "source": [
    "columns_to_drop =[\n",
    "    \"INJURIES_FATAL\",\"INJURIES_INCAPACITATING\",\n",
    "    \"INJURIES_NON_INCAPACITATING\",\"INJURIES_REPORTED_NOT_EVIDENT\",\n",
    "    \"INJURIES_NO_INDICATION\",\"INJURIES_UNKNOWN\",\"REPORT_TYPE\",\n",
    "     \"ROADWAY_SURFACE_COND\",\"BEAT_OF_OCCURRENCE\"]\n",
    "df = df.drop(columns_to_drop,axis =1)"
   ]
  },
  {
   "cell_type": "markdown",
   "id": "3bd9ac0b-0d54-4edf-934c-232d55012195",
   "metadata": {},
   "source": [
    "We also decided to drop missing values in our `REPORT_TYPE`,`STREET_DIRECTION`,`STREET_NAME`columns."
   ]
  },
  {
   "cell_type": "code",
   "execution_count": 6,
   "id": "7ccb38dc-de77-4665-84a2-3374bb86268c",
   "metadata": {},
   "outputs": [],
   "source": [
    "df = df.dropna(subset =[\"MOST_SEVERE_INJURY\",\"INJURIES_TOTAL\",\"STREET_DIRECTION\",\"STREET_NAME\",\"LATITUDE\",\"LONGITUDE\",\"LOCATION\"])"
   ]
  },
  {
   "cell_type": "code",
   "execution_count": 7,
   "id": "e02b9307-06f5-4e2d-b0c3-b3c07b733f5c",
   "metadata": {},
   "outputs": [
    {
     "data": {
      "text/plain": [
       "CRASH_DATE                 0\n",
       "POSTED_SPEED_LIMIT         0\n",
       "TRAFFIC_CONTROL_DEVICE     0\n",
       "DEVICE_CONDITION           0\n",
       "WEATHER_CONDITION          0\n",
       "LIGHTING_CONDITION         0\n",
       "FIRST_CRASH_TYPE           0\n",
       "TRAFFICWAY_TYPE            0\n",
       "ALIGNMENT                  0\n",
       "ROAD_DEFECT                0\n",
       "CRASH_TYPE                 0\n",
       "DAMAGE                     0\n",
       "DATE_POLICE_NOTIFIED       0\n",
       "PRIM_CONTRIBUTORY_CAUSE    0\n",
       "SEC_CONTRIBUTORY_CAUSE     0\n",
       "STREET_NO                  0\n",
       "STREET_DIRECTION           0\n",
       "STREET_NAME                0\n",
       "NUM_UNITS                  0\n",
       "MOST_SEVERE_INJURY         0\n",
       "INJURIES_TOTAL             0\n",
       "CRASH_HOUR                 0\n",
       "CRASH_DAY_OF_WEEK          0\n",
       "CRASH_MONTH                0\n",
       "LATITUDE                   0\n",
       "LONGITUDE                  0\n",
       "LOCATION                   0\n",
       "dtype: int64"
      ]
     },
     "execution_count": 7,
     "metadata": {},
     "output_type": "execute_result"
    }
   ],
   "source": [
    "df.isnull().sum()"
   ]
  },
  {
   "cell_type": "code",
   "execution_count": 8,
   "id": "c7acab66-64a9-4abb-92ed-4c93212f3b8f",
   "metadata": {},
   "outputs": [
    {
     "data": {
      "text/plain": [
       "(982961, 27)"
      ]
     },
     "execution_count": 8,
     "metadata": {},
     "output_type": "execute_result"
    }
   ],
   "source": [
    "df.shape"
   ]
  },
  {
   "cell_type": "markdown",
   "id": "33005901-8f73-4145-bc00-41ab9236ffc9",
   "metadata": {},
   "source": [
    "Let's change the name of all the columns to lowercase for usability."
   ]
  },
  {
   "cell_type": "code",
   "execution_count": 9,
   "id": "3b07ebc5-0776-4689-97ac-16973506f22c",
   "metadata": {},
   "outputs": [],
   "source": [
    "df.columns = df.columns.str.lower()"
   ]
  },
  {
   "cell_type": "markdown",
   "id": "62a0a9d0-2d15-4606-8018-9ddcebfcba5d",
   "metadata": {},
   "source": [
    "From below you can tell our `DAMAGE` column has \"$\" \",\" and is an object but it should be a integer so let's get rid of any whitesapaces and other inputs and convert it to int datatype"
   ]
  },
  {
   "cell_type": "code",
   "execution_count": 8,
   "id": "d891567b-02e3-4121-a6e0-6161791b11f0",
   "metadata": {},
   "outputs": [
    {
     "data": {
      "text/plain": [
       "DAMAGE\n",
       "OVER $1,500      634123\n",
       "$501 - $1,500    249178\n",
       "$500 OR LESS     109294\n",
       "Name: count, dtype: int64"
      ]
     },
     "execution_count": 8,
     "metadata": {},
     "output_type": "execute_result"
    }
   ],
   "source": [
    "df[\"DAMAGE\"].value_counts()"
   ]
  },
  {
   "cell_type": "code",
   "execution_count": 13,
   "id": "85db547e-0466-4862-81b0-3ae009c1ba5a",
   "metadata": {
    "scrolled": true
   },
   "outputs": [
    {
     "name": "stdout",
     "output_type": "stream",
     "text": [
      "<class 'pandas.core.frame.DataFrame'>\n",
      "Index: 982961 entries, 0 to 992594\n",
      "Data columns (total 24 columns):\n",
      " #   Column                   Non-Null Count   Dtype         \n",
      "---  ------                   --------------   -----         \n",
      " 0   crash_date               982961 non-null  datetime64[ns]\n",
      " 1   posted_speed_limit       982961 non-null  int64         \n",
      " 2   traffic_control_device   982961 non-null  object        \n",
      " 3   device_condition         982961 non-null  object        \n",
      " 4   weather_condition        982961 non-null  object        \n",
      " 5   lighting_condition       982961 non-null  object        \n",
      " 6   first_crash_type         982961 non-null  object        \n",
      " 7   trafficway_type          982961 non-null  object        \n",
      " 8   alignment                982961 non-null  object        \n",
      " 9   road_defect              982961 non-null  object        \n",
      " 10  crash_type               982961 non-null  object        \n",
      " 11  damage                   982961 non-null  object        \n",
      " 12  date_police_notified     982961 non-null  object        \n",
      " 13  prim_contributory_cause  982961 non-null  object        \n",
      " 14  sec_contributory_cause   982961 non-null  object        \n",
      " 15  street_no                982961 non-null  int64         \n",
      " 16  street_direction         982961 non-null  object        \n",
      " 17  street_name              982961 non-null  object        \n",
      " 18  num_units                982961 non-null  int64         \n",
      " 19  most_severe_injury       982961 non-null  object        \n",
      " 20  injuries_total           982961 non-null  float64       \n",
      " 21  latitude                 982961 non-null  float64       \n",
      " 22  longitude                982961 non-null  float64       \n",
      " 23  location                 982961 non-null  object        \n",
      "dtypes: datetime64[ns](1), float64(3), int64(3), object(17)\n",
      "memory usage: 187.5+ MB\n"
     ]
    }
   ],
   "source": [
    "# check the datatype of the other columns\n",
    "df.info()\n"
   ]
  },
  {
   "cell_type": "markdown",
   "id": "d2eed189-9e6d-494d-b3af-2f7cdc6d2f47",
   "metadata": {},
   "source": [
    "Let's change the datatype of `crash_date` to datetime."
   ]
  },
  {
   "cell_type": "code",
   "execution_count": 11,
   "id": "b6f2ccf1-7398-4c9e-b0d0-505b3a8904ad",
   "metadata": {},
   "outputs": [],
   "source": [
    "df['crash_date'] = pd.to_datetime(df['crash_date'])"
   ]
  },
  {
   "cell_type": "markdown",
   "id": "15a0e171-2961-43f3-86f6-27c459ef5e3b",
   "metadata": {},
   "source": [
    "Since `crash_hour`,`crash_day_of_week` and `crash_month` have the same information as `crash_date` it is advisable to drop them."
   ]
  },
  {
   "cell_type": "code",
   "execution_count": 12,
   "id": "d1d19dbb-e01f-4fdb-85a5-8354407a78c1",
   "metadata": {},
   "outputs": [],
   "source": [
    "columns =[\"crash_hour\",\"crash_day_of_week\",\"crash_month\"]\n",
    "df = df.drop(columns,axis =1)"
   ]
  },
  {
   "cell_type": "markdown",
   "id": "53a0713f-191a-4782-8f7e-b0e2b4cc701a",
   "metadata": {},
   "source": [
    "Let's get rid of all whitespaces in every column."
   ]
  },
  {
   "cell_type": "code",
   "execution_count": 14,
   "id": "6a4513d9-415d-4269-9b94-d9706746d764",
   "metadata": {},
   "outputs": [],
   "source": [
    "for col in df.select_dtypes(include=['object']).columns:\n",
    "    df[col] = df[col].str.strip()"
   ]
  },
  {
   "cell_type": "code",
   "execution_count": 15,
   "id": "6915c2d6-a937-46d0-b057-c3c8d4544215",
   "metadata": {},
   "outputs": [
    {
     "data": {
      "text/html": [
       "<div>\n",
       "<style scoped>\n",
       "    .dataframe tbody tr th:only-of-type {\n",
       "        vertical-align: middle;\n",
       "    }\n",
       "\n",
       "    .dataframe tbody tr th {\n",
       "        vertical-align: top;\n",
       "    }\n",
       "\n",
       "    .dataframe thead th {\n",
       "        text-align: right;\n",
       "    }\n",
       "</style>\n",
       "<table border=\"1\" class=\"dataframe\">\n",
       "  <thead>\n",
       "    <tr style=\"text-align: right;\">\n",
       "      <th></th>\n",
       "      <th>crash_date</th>\n",
       "      <th>posted_speed_limit</th>\n",
       "      <th>traffic_control_device</th>\n",
       "      <th>device_condition</th>\n",
       "      <th>weather_condition</th>\n",
       "      <th>lighting_condition</th>\n",
       "      <th>first_crash_type</th>\n",
       "      <th>trafficway_type</th>\n",
       "      <th>alignment</th>\n",
       "      <th>road_defect</th>\n",
       "      <th>...</th>\n",
       "      <th>sec_contributory_cause</th>\n",
       "      <th>street_no</th>\n",
       "      <th>street_direction</th>\n",
       "      <th>street_name</th>\n",
       "      <th>num_units</th>\n",
       "      <th>most_severe_injury</th>\n",
       "      <th>injuries_total</th>\n",
       "      <th>latitude</th>\n",
       "      <th>longitude</th>\n",
       "      <th>location</th>\n",
       "    </tr>\n",
       "  </thead>\n",
       "  <tbody>\n",
       "    <tr>\n",
       "      <th>0</th>\n",
       "      <td>2025-10-12 02:15:00</td>\n",
       "      <td>30</td>\n",
       "      <td>NO CONTROLS</td>\n",
       "      <td>NO CONTROLS</td>\n",
       "      <td>CLEAR</td>\n",
       "      <td>DAYLIGHT</td>\n",
       "      <td>PEDALCYCLIST</td>\n",
       "      <td>NOT DIVIDED</td>\n",
       "      <td>STRAIGHT AND LEVEL</td>\n",
       "      <td>NO DEFECTS</td>\n",
       "      <td>...</td>\n",
       "      <td>NOT APPLICABLE</td>\n",
       "      <td>1336</td>\n",
       "      <td>S</td>\n",
       "      <td>PLYMOUTH CT</td>\n",
       "      <td>2</td>\n",
       "      <td>NO INDICATION OF INJURY</td>\n",
       "      <td>0.0</td>\n",
       "      <td>41.864686</td>\n",
       "      <td>-87.628601</td>\n",
       "      <td>POINT (-87.628600775248 41.864686205128)</td>\n",
       "    </tr>\n",
       "    <tr>\n",
       "      <th>1</th>\n",
       "      <td>2025-10-12 01:30:00</td>\n",
       "      <td>30</td>\n",
       "      <td>NO CONTROLS</td>\n",
       "      <td>NO CONTROLS</td>\n",
       "      <td>CLEAR</td>\n",
       "      <td>DARKNESS, LIGHTED ROAD</td>\n",
       "      <td>FIXED OBJECT</td>\n",
       "      <td>NOT DIVIDED</td>\n",
       "      <td>STRAIGHT AND LEVEL</td>\n",
       "      <td>NO DEFECTS</td>\n",
       "      <td>...</td>\n",
       "      <td>UNABLE TO DETERMINE</td>\n",
       "      <td>5153</td>\n",
       "      <td>W</td>\n",
       "      <td>63RD ST</td>\n",
       "      <td>1</td>\n",
       "      <td>NO INDICATION OF INJURY</td>\n",
       "      <td>0.0</td>\n",
       "      <td>41.778137</td>\n",
       "      <td>-87.751688</td>\n",
       "      <td>POINT (-87.751688421991 41.778136527292)</td>\n",
       "    </tr>\n",
       "    <tr>\n",
       "      <th>2</th>\n",
       "      <td>2025-10-12 01:15:00</td>\n",
       "      <td>30</td>\n",
       "      <td>TRAFFIC SIGNAL</td>\n",
       "      <td>FUNCTIONING PROPERLY</td>\n",
       "      <td>CLEAR</td>\n",
       "      <td>DARKNESS, LIGHTED ROAD</td>\n",
       "      <td>REAR END</td>\n",
       "      <td>NOT DIVIDED</td>\n",
       "      <td>STRAIGHT AND LEVEL</td>\n",
       "      <td>UNKNOWN</td>\n",
       "      <td>...</td>\n",
       "      <td>DISTRACTION - FROM INSIDE VEHICLE</td>\n",
       "      <td>1000</td>\n",
       "      <td>N</td>\n",
       "      <td>LA SALLE DR</td>\n",
       "      <td>2</td>\n",
       "      <td>NO INDICATION OF INJURY</td>\n",
       "      <td>0.0</td>\n",
       "      <td>41.900585</td>\n",
       "      <td>-87.632986</td>\n",
       "      <td>POINT (-87.632986070025 41.900584800211)</td>\n",
       "    </tr>\n",
       "    <tr>\n",
       "      <th>3</th>\n",
       "      <td>2025-10-12 01:15:00</td>\n",
       "      <td>25</td>\n",
       "      <td>NO CONTROLS</td>\n",
       "      <td>NO CONTROLS</td>\n",
       "      <td>CLEAR</td>\n",
       "      <td>DARKNESS, LIGHTED ROAD</td>\n",
       "      <td>FIXED OBJECT</td>\n",
       "      <td>DIVIDED - W/MEDIAN BARRIER</td>\n",
       "      <td>STRAIGHT AND LEVEL</td>\n",
       "      <td>NO DEFECTS</td>\n",
       "      <td>...</td>\n",
       "      <td>NOT APPLICABLE</td>\n",
       "      <td>142</td>\n",
       "      <td>W</td>\n",
       "      <td>35TH ST</td>\n",
       "      <td>1</td>\n",
       "      <td>NO INDICATION OF INJURY</td>\n",
       "      <td>0.0</td>\n",
       "      <td>41.831062</td>\n",
       "      <td>-87.630739</td>\n",
       "      <td>POINT (-87.630739346453 41.831062009276)</td>\n",
       "    </tr>\n",
       "    <tr>\n",
       "      <th>4</th>\n",
       "      <td>2025-10-12 01:11:00</td>\n",
       "      <td>35</td>\n",
       "      <td>NO CONTROLS</td>\n",
       "      <td>NO CONTROLS</td>\n",
       "      <td>CLEAR</td>\n",
       "      <td>DARKNESS, LIGHTED ROAD</td>\n",
       "      <td>TURNING</td>\n",
       "      <td>NOT DIVIDED</td>\n",
       "      <td>STRAIGHT AND LEVEL</td>\n",
       "      <td>NO DEFECTS</td>\n",
       "      <td>...</td>\n",
       "      <td>IMPROPER TURNING/NO SIGNAL</td>\n",
       "      <td>6601</td>\n",
       "      <td>S</td>\n",
       "      <td>HALSTED ST</td>\n",
       "      <td>2</td>\n",
       "      <td>NO INDICATION OF INJURY</td>\n",
       "      <td>0.0</td>\n",
       "      <td>41.774252</td>\n",
       "      <td>-87.644497</td>\n",
       "      <td>POINT (-87.644496549933 41.774252148861)</td>\n",
       "    </tr>\n",
       "    <tr>\n",
       "      <th>5</th>\n",
       "      <td>2025-10-12 00:56:00</td>\n",
       "      <td>30</td>\n",
       "      <td>NO CONTROLS</td>\n",
       "      <td>NO CONTROLS</td>\n",
       "      <td>CLEAR</td>\n",
       "      <td>DARKNESS</td>\n",
       "      <td>PARKED MOTOR VEHICLE</td>\n",
       "      <td>DIVIDED - W/MEDIAN (NOT RAISED)</td>\n",
       "      <td>STRAIGHT AND LEVEL</td>\n",
       "      <td>NO DEFECTS</td>\n",
       "      <td>...</td>\n",
       "      <td>NOT APPLICABLE</td>\n",
       "      <td>1809</td>\n",
       "      <td>W</td>\n",
       "      <td>NORTH AVE</td>\n",
       "      <td>3</td>\n",
       "      <td>NO INDICATION OF INJURY</td>\n",
       "      <td>0.0</td>\n",
       "      <td>41.910445</td>\n",
       "      <td>-87.672973</td>\n",
       "      <td>POINT (-87.672972542585 41.910445412955)</td>\n",
       "    </tr>\n",
       "    <tr>\n",
       "      <th>6</th>\n",
       "      <td>2025-10-12 00:25:00</td>\n",
       "      <td>30</td>\n",
       "      <td>TRAFFIC SIGNAL</td>\n",
       "      <td>FUNCTIONING PROPERLY</td>\n",
       "      <td>CLEAR</td>\n",
       "      <td>DARKNESS, LIGHTED ROAD</td>\n",
       "      <td>TURNING</td>\n",
       "      <td>NOT DIVIDED</td>\n",
       "      <td>STRAIGHT AND LEVEL</td>\n",
       "      <td>NO DEFECTS</td>\n",
       "      <td>...</td>\n",
       "      <td>NOT APPLICABLE</td>\n",
       "      <td>5500</td>\n",
       "      <td>S</td>\n",
       "      <td>PULASKI RD</td>\n",
       "      <td>2</td>\n",
       "      <td>NO INDICATION OF INJURY</td>\n",
       "      <td>0.0</td>\n",
       "      <td>41.793155</td>\n",
       "      <td>-87.723304</td>\n",
       "      <td>POINT (-87.723303764642 41.793155060731)</td>\n",
       "    </tr>\n",
       "  </tbody>\n",
       "</table>\n",
       "<p>7 rows × 24 columns</p>\n",
       "</div>"
      ],
      "text/plain": [
       "           crash_date  posted_speed_limit traffic_control_device  \\\n",
       "0 2025-10-12 02:15:00                  30            NO CONTROLS   \n",
       "1 2025-10-12 01:30:00                  30            NO CONTROLS   \n",
       "2 2025-10-12 01:15:00                  30         TRAFFIC SIGNAL   \n",
       "3 2025-10-12 01:15:00                  25            NO CONTROLS   \n",
       "4 2025-10-12 01:11:00                  35            NO CONTROLS   \n",
       "5 2025-10-12 00:56:00                  30            NO CONTROLS   \n",
       "6 2025-10-12 00:25:00                  30         TRAFFIC SIGNAL   \n",
       "\n",
       "       device_condition weather_condition      lighting_condition  \\\n",
       "0           NO CONTROLS             CLEAR                DAYLIGHT   \n",
       "1           NO CONTROLS             CLEAR  DARKNESS, LIGHTED ROAD   \n",
       "2  FUNCTIONING PROPERLY             CLEAR  DARKNESS, LIGHTED ROAD   \n",
       "3           NO CONTROLS             CLEAR  DARKNESS, LIGHTED ROAD   \n",
       "4           NO CONTROLS             CLEAR  DARKNESS, LIGHTED ROAD   \n",
       "5           NO CONTROLS             CLEAR                DARKNESS   \n",
       "6  FUNCTIONING PROPERLY             CLEAR  DARKNESS, LIGHTED ROAD   \n",
       "\n",
       "       first_crash_type                  trafficway_type           alignment  \\\n",
       "0          PEDALCYCLIST                      NOT DIVIDED  STRAIGHT AND LEVEL   \n",
       "1          FIXED OBJECT                      NOT DIVIDED  STRAIGHT AND LEVEL   \n",
       "2              REAR END                      NOT DIVIDED  STRAIGHT AND LEVEL   \n",
       "3          FIXED OBJECT       DIVIDED - W/MEDIAN BARRIER  STRAIGHT AND LEVEL   \n",
       "4               TURNING                      NOT DIVIDED  STRAIGHT AND LEVEL   \n",
       "5  PARKED MOTOR VEHICLE  DIVIDED - W/MEDIAN (NOT RAISED)  STRAIGHT AND LEVEL   \n",
       "6               TURNING                      NOT DIVIDED  STRAIGHT AND LEVEL   \n",
       "\n",
       "  road_defect  ...             sec_contributory_cause street_no  \\\n",
       "0  NO DEFECTS  ...                     NOT APPLICABLE      1336   \n",
       "1  NO DEFECTS  ...                UNABLE TO DETERMINE      5153   \n",
       "2     UNKNOWN  ...  DISTRACTION - FROM INSIDE VEHICLE      1000   \n",
       "3  NO DEFECTS  ...                     NOT APPLICABLE       142   \n",
       "4  NO DEFECTS  ...         IMPROPER TURNING/NO SIGNAL      6601   \n",
       "5  NO DEFECTS  ...                     NOT APPLICABLE      1809   \n",
       "6  NO DEFECTS  ...                     NOT APPLICABLE      5500   \n",
       "\n",
       "  street_direction  street_name num_units       most_severe_injury  \\\n",
       "0                S  PLYMOUTH CT         2  NO INDICATION OF INJURY   \n",
       "1                W      63RD ST         1  NO INDICATION OF INJURY   \n",
       "2                N  LA SALLE DR         2  NO INDICATION OF INJURY   \n",
       "3                W      35TH ST         1  NO INDICATION OF INJURY   \n",
       "4                S   HALSTED ST         2  NO INDICATION OF INJURY   \n",
       "5                W    NORTH AVE         3  NO INDICATION OF INJURY   \n",
       "6                S   PULASKI RD         2  NO INDICATION OF INJURY   \n",
       "\n",
       "  injuries_total   latitude  longitude  \\\n",
       "0            0.0  41.864686 -87.628601   \n",
       "1            0.0  41.778137 -87.751688   \n",
       "2            0.0  41.900585 -87.632986   \n",
       "3            0.0  41.831062 -87.630739   \n",
       "4            0.0  41.774252 -87.644497   \n",
       "5            0.0  41.910445 -87.672973   \n",
       "6            0.0  41.793155 -87.723304   \n",
       "\n",
       "                                   location  \n",
       "0  POINT (-87.628600775248 41.864686205128)  \n",
       "1  POINT (-87.751688421991 41.778136527292)  \n",
       "2  POINT (-87.632986070025 41.900584800211)  \n",
       "3  POINT (-87.630739346453 41.831062009276)  \n",
       "4  POINT (-87.644496549933 41.774252148861)  \n",
       "5  POINT (-87.672972542585 41.910445412955)  \n",
       "6  POINT (-87.723303764642 41.793155060731)  \n",
       "\n",
       "[7 rows x 24 columns]"
      ]
     },
     "execution_count": 15,
     "metadata": {},
     "output_type": "execute_result"
    }
   ],
   "source": [
    "df.head(7)"
   ]
  },
  {
   "cell_type": "code",
   "execution_count": 16,
   "id": "34ea9c82-35b9-4323-8390-b3e1b6371c57",
   "metadata": {},
   "outputs": [
    {
     "data": {
      "text/html": [
       "<div>\n",
       "<style scoped>\n",
       "    .dataframe tbody tr th:only-of-type {\n",
       "        vertical-align: middle;\n",
       "    }\n",
       "\n",
       "    .dataframe tbody tr th {\n",
       "        vertical-align: top;\n",
       "    }\n",
       "\n",
       "    .dataframe thead th {\n",
       "        text-align: right;\n",
       "    }\n",
       "</style>\n",
       "<table border=\"1\" class=\"dataframe\">\n",
       "  <thead>\n",
       "    <tr style=\"text-align: right;\">\n",
       "      <th></th>\n",
       "      <th>crash_date</th>\n",
       "      <th>posted_speed_limit</th>\n",
       "      <th>street_no</th>\n",
       "      <th>num_units</th>\n",
       "      <th>injuries_total</th>\n",
       "      <th>latitude</th>\n",
       "      <th>longitude</th>\n",
       "    </tr>\n",
       "  </thead>\n",
       "  <tbody>\n",
       "    <tr>\n",
       "      <th>count</th>\n",
       "      <td>982961</td>\n",
       "      <td>982961.000000</td>\n",
       "      <td>982961.000000</td>\n",
       "      <td>982961.000000</td>\n",
       "      <td>982961.000000</td>\n",
       "      <td>982961.000000</td>\n",
       "      <td>982961.000000</td>\n",
       "    </tr>\n",
       "    <tr>\n",
       "      <th>mean</th>\n",
       "      <td>2021-03-18 16:11:49.265372928</td>\n",
       "      <td>28.443802</td>\n",
       "      <td>3692.362053</td>\n",
       "      <td>2.036498</td>\n",
       "      <td>0.197757</td>\n",
       "      <td>41.855239</td>\n",
       "      <td>-87.673245</td>\n",
       "    </tr>\n",
       "    <tr>\n",
       "      <th>min</th>\n",
       "      <td>2013-03-03 16:48:00</td>\n",
       "      <td>0.000000</td>\n",
       "      <td>1.000000</td>\n",
       "      <td>1.000000</td>\n",
       "      <td>0.000000</td>\n",
       "      <td>0.000000</td>\n",
       "      <td>-87.939678</td>\n",
       "    </tr>\n",
       "    <tr>\n",
       "      <th>25%</th>\n",
       "      <td>2018-12-01 22:45:00</td>\n",
       "      <td>30.000000</td>\n",
       "      <td>1300.000000</td>\n",
       "      <td>2.000000</td>\n",
       "      <td>0.000000</td>\n",
       "      <td>41.784067</td>\n",
       "      <td>-87.721817</td>\n",
       "    </tr>\n",
       "    <tr>\n",
       "      <th>50%</th>\n",
       "      <td>2021-04-21 04:56:00</td>\n",
       "      <td>30.000000</td>\n",
       "      <td>3202.000000</td>\n",
       "      <td>2.000000</td>\n",
       "      <td>0.000000</td>\n",
       "      <td>41.875174</td>\n",
       "      <td>-87.674364</td>\n",
       "    </tr>\n",
       "    <tr>\n",
       "      <th>75%</th>\n",
       "      <td>2023-07-20 14:55:00</td>\n",
       "      <td>30.000000</td>\n",
       "      <td>5556.000000</td>\n",
       "      <td>2.000000</td>\n",
       "      <td>0.000000</td>\n",
       "      <td>41.924769</td>\n",
       "      <td>-87.633797</td>\n",
       "    </tr>\n",
       "    <tr>\n",
       "      <th>max</th>\n",
       "      <td>2025-10-12 02:15:00</td>\n",
       "      <td>99.000000</td>\n",
       "      <td>13799.000000</td>\n",
       "      <td>18.000000</td>\n",
       "      <td>21.000000</td>\n",
       "      <td>42.022780</td>\n",
       "      <td>0.000000</td>\n",
       "    </tr>\n",
       "    <tr>\n",
       "      <th>std</th>\n",
       "      <td>NaN</td>\n",
       "      <td>6.010941</td>\n",
       "      <td>2829.566788</td>\n",
       "      <td>0.448432</td>\n",
       "      <td>0.577275</td>\n",
       "      <td>0.351103</td>\n",
       "      <td>0.715405</td>\n",
       "    </tr>\n",
       "  </tbody>\n",
       "</table>\n",
       "</div>"
      ],
      "text/plain": [
       "                          crash_date  posted_speed_limit      street_no  \\\n",
       "count                         982961       982961.000000  982961.000000   \n",
       "mean   2021-03-18 16:11:49.265372928           28.443802    3692.362053   \n",
       "min              2013-03-03 16:48:00            0.000000       1.000000   \n",
       "25%              2018-12-01 22:45:00           30.000000    1300.000000   \n",
       "50%              2021-04-21 04:56:00           30.000000    3202.000000   \n",
       "75%              2023-07-20 14:55:00           30.000000    5556.000000   \n",
       "max              2025-10-12 02:15:00           99.000000   13799.000000   \n",
       "std                              NaN            6.010941    2829.566788   \n",
       "\n",
       "           num_units  injuries_total       latitude      longitude  \n",
       "count  982961.000000   982961.000000  982961.000000  982961.000000  \n",
       "mean        2.036498        0.197757      41.855239     -87.673245  \n",
       "min         1.000000        0.000000       0.000000     -87.939678  \n",
       "25%         2.000000        0.000000      41.784067     -87.721817  \n",
       "50%         2.000000        0.000000      41.875174     -87.674364  \n",
       "75%         2.000000        0.000000      41.924769     -87.633797  \n",
       "max        18.000000       21.000000      42.022780       0.000000  \n",
       "std         0.448432        0.577275       0.351103       0.715405  "
      ]
     },
     "execution_count": 16,
     "metadata": {},
     "output_type": "execute_result"
    }
   ],
   "source": [
    "df.describe()"
   ]
  },
  {
   "cell_type": "markdown",
   "id": "f06abe7b-c33f-4f84-91c2-6ec8ee2b7366",
   "metadata": {},
   "source": [
    "# 5. EXPLANATORY DATA ANALYSIS"
   ]
  },
  {
   "cell_type": "markdown",
   "id": "f4307a71-dbda-4a98-b09b-77d27e1ce2ae",
   "metadata": {},
   "source": [
    "## 5.1 UNIVARIATE ANALYIS"
   ]
  },
  {
   "cell_type": "markdown",
   "id": "f33d67df-0ddc-43cb-8653-9edff97d986c",
   "metadata": {},
   "source": [
    "Let's look at the `most_severe_injury` column to understand the fatality of most injuries."
   ]
  },
  {
   "cell_type": "code",
   "execution_count": 24,
   "id": "70c2877e-ac0d-4e9f-be79-b9f6204b93ea",
   "metadata": {},
   "outputs": [
    {
     "data": {
      "image/png": "[encoded data removed]",
      "text/plain": [
       "<Figure size 800x400 with 1 Axes>"
      ]
     },
     "metadata": {},
     "output_type": "display_data"
    }
   ],
   "source": [
    "# Set style\n",
    "sns.set(style=\"whitegrid\")\n",
    "\n",
    "# Plot\n",
    "plt.figure(figsize=(10,4))\n",
    "sns.countplot(data=df, x='most_severe_injury', palette='viridis')\n",
    "\n",
    "# Add labels\n",
    "plt.title(\"Distribution of Injury Severity\", fontsize=10)\n",
    "plt.xlabel(\"Injury Severity Type\", fontsize=8)\n",
    "plt.ylabel(\"Count\", fontsize=12)\n",
    "plt.xticks(rotation=45)  \n",
    "plt.show()"
   ]
  },
  {
   "cell_type": "code",
   "execution_count": 27,
   "id": "1b7f2c70-3eea-43f1-9163-ce9f610e2fd3",
   "metadata": {},
   "outputs": [
    {
     "data": {
      "text/plain": [
       "Index(['crash_date', 'posted_speed_limit', 'traffic_control_device',\n",
       "       'device_condition', 'weather_condition', 'lighting_condition',\n",
       "       'first_crash_type', 'trafficway_type', 'alignment', 'road_defect',\n",
       "       'crash_type', 'damage', 'date_police_notified',\n",
       "       'prim_contributory_cause', 'sec_contributory_cause', 'street_no',\n",
       "       'street_direction', 'street_name', 'num_units', 'most_severe_injury',\n",
       "       'injuries_total', 'latitude', 'longitude', 'location'],\n",
       "      dtype='object')"
      ]
     },
     "execution_count": 27,
     "metadata": {},
     "output_type": "execute_result"
    }
   ],
   "source": [
    "df.columns"
   ]
  },
  {
   "cell_type": "code",
   "execution_count": 28,
   "id": "a691a76f-7c21-44dc-b6f0-71c831a7b41a",
   "metadata": {},
   "outputs": [
    {
     "data": {
      "image/png": "[encoded data removed]",
      "text/plain": [
       "<Figure size 1000x600 with 1 Axes>"
      ]
     },
     "metadata": {},
     "output_type": "display_data"
    }
   ],
   "source": [
    "# Get top 5 contributory causes\n",
    "top_5 = df['prim_contributory_cause'].value_counts().nlargest(5).index\n",
    "\n",
    "# Filter dataset to include only top 5\n",
    "df_top5 = df[df['prim_contributory_cause'].isin(top_5)]\n",
    "\n",
    "# Create vertical countplot\n",
    "plt.figure(figsize=(10,6))\n",
    "sns.countplot(\n",
    "    x='prim_contributory_cause',\n",
    "    data=df_top5,\n",
    "    order=top_5,\n",
    "    palette='Set2'   \n",
    ")\n",
    "\n",
    "plt.title('Top 5 Primary Contributory Causes of Crashes', fontsize=14, weight='bold')\n",
    "plt.xlabel('Primary Contributory Cause', fontsize=12)\n",
    "plt.ylabel('Number of Crashes', fontsize=12)\n",
    "plt.xticks(rotation=30, ha='right')  \n",
    "plt.tight_layout()\n",
    "plt.show()"
   ]
  },
  {
   "cell_type": "code",
   "execution_count": 31,
   "id": "fb65d104-2c91-4195-be17-37e9b44d4973",
   "metadata": {},
   "outputs": [
    {
     "data": {
      "image/png": "[encoded data removed]",
      "text/plain": [
       "<Figure size 1000x500 with 1 Axes>"
      ]
     },
     "metadata": {},
     "output_type": "display_data"
    }
   ],
   "source": [
    "# Extract the year\n",
    "df['year'] = df['crash_date'].dt.year\n",
    "\n",
    "# Count number of accidents per year\n",
    "yearly_counts = df.groupby('year').size().reset_index(name='count')\n",
    "sns.set_theme(style='whitegrid')\n",
    "\n",
    "# Plot\n",
    "plt.figure(figsize=(10, 5))\n",
    "sns.lineplot(data=yearly_counts, x='year', y='count', marker='*', color='tomato')\n",
    "\n",
    "# Customize\n",
    "plt.title('Yearly Accident Trends ')\n",
    "plt.xlabel('Year')\n",
    "plt.ylabel('Number of Accidents')\n",
    "plt.xticks(yearly_counts['year'])  \n",
    "plt.tight_layout()\n",
    "plt.show()"
   ]
  },
  {
   "cell_type": "code",
   "execution_count": null,
   "id": "805c88b9-28f6-4df2-b931-679c1de516bb",
   "metadata": {},
   "outputs": [],
   "source": []
  }
 ],
 "metadata": {
  "kernelspec": {
   "display_name": "Python [conda env:base] *",
   "language": "python",
   "name": "conda-base-py"
  },
  "language_info": {
   "codemirror_mode": {
    "name": "ipython",
    "version": 3
   },
   "file_extension": ".py",
   "mimetype": "text/x-python",
   "name": "python",
   "nbconvert_exporter": "python",
   "pygments_lexer": "ipython3",
   "version": "3.12.7"
  }
 },
 "nbformat": 4,
 "nbformat_minor": 5
}
